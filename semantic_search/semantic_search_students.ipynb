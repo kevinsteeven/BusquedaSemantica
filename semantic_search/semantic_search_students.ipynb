{
 "cells": [
  {
   "cell_type": "markdown",
   "metadata": {},
   "source": [
    "## Instalando dependencias necesarias"
   ]
  },
  {
   "cell_type": "code",
   "execution_count": null,
   "metadata": {},
   "outputs": [],
   "source": [
    "%%capture\n",
    "%pip install -U sentence-transformers pandas\n",
    "import pandas as pd\n",
    "from sentence_transformers import SentenceTransformer "
   ]
  },
  {
   "cell_type": "markdown",
   "metadata": {},
   "source": [
    "## Entendiendo el dataset"
   ]
  },
  {
   "cell_type": "code",
   "execution_count": 2,
   "metadata": {},
   "outputs": [],
   "source": [
    "# https://www.kaggle.com/datasets/omarhanyy/imdb-top-1000?resource=download\n",
    "# TODO: Cargar el archivo del dataset con  pandas\n",
    "#Leer el archivo\n",
    "\n",
    "dataset=pd.read_csv(\"IMDB top 1000.csv\")"
   ]
  },
  {
   "cell_type": "code",
   "execution_count": null,
   "metadata": {},
   "outputs": [],
   "source": [
    "# TODO: mostrar los primeros 5 registros de dataframe\n",
    "print(dataset.head())\n",
    "df.head()"
   ]
  },
  {
   "cell_type": "markdown",
   "metadata": {},
   "source": [
    "## Usando Sentence Transformer para crear embeddings"
   ]
  },
  {
   "cell_type": "code",
   "execution_count": null,
   "metadata": {},
   "outputs": [],
   "source": [
    "model = SentenceTransformer('sentence-transformers/all-MiniLM-L6-v2')"
   ]
  },
  {
   "cell_type": "markdown",
   "metadata": {},
   "source": [
    "## Calculando la similitud usando la métrica de similitud por coseno"
   ]
  },
  {
   "cell_type": "code",
   "execution_count": 17,
   "metadata": {},
   "outputs": [],
   "source": [
    "def compute_similarity(example, query_embedding):\n",
    "    embedding = example['embeddings'] \n",
    "    similarity = util.cos_sim(embedding, query_embedding).item()\n",
    "    return similarity  \n",
    "def aumentar_contexto():\n",
    "    combined_text = df.apply(lambda row: ' '.join([str(row['Description']), str(row['Title']), str(row['Genre'])]), axis=1)  \n",
    "    embeddings = model.encode(combined_text.tolist(), batch_size=64, show_progress_bar=True)\n",
    "    return embeddings \n"
   ]
  },
  {
   "cell_type": "code",
   "execution_count": null,
   "metadata": {},
   "outputs": [],
   "source": [
    "embeddings=aumentar_contexto()\n",
    "df['embeddings'] = embeddings.tolist()"
   ]
  },
  {
   "cell_type": "markdown",
   "metadata": {},
   "source": [
    "## Ejecuntando la búsqueda "
   ]
  },
  {
   "cell_type": "code",
   "execution_count": null,
   "metadata": {},
   "outputs": [],
   "source": [
    "query_embedding = model.encode([input])[0]\n",
    "df['similarity'] = df.apply(lambda x: compute_similarity(x, query_embedding), axis=1)\n",
    "df = df.sort_values(by='similarity', ascending=False)\n",
    "\n",
    "df.head()[['Title','Description']]"
   ]
  }
 ],
 "metadata": {
  "kernelspec": {
   "display_name": "base",
   "language": "python",
   "name": "python3"
  },
  "language_info": {
   "codemirror_mode": {
    "name": "ipython",
    "version": 3
   },
   "file_extension": ".py",
   "mimetype": "text/x-python",
   "name": "python",
   "nbconvert_exporter": "python",
   "pygments_lexer": "ipython3",
   "version": "3.10.9"
  }
 },
 "nbformat": 4,
 "nbformat_minor": 2
}
